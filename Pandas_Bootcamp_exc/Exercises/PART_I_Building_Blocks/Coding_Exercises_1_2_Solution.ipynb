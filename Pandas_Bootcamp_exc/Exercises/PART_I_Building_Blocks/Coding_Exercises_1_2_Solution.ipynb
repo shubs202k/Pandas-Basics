{
 "cells": [
  {
   "cell_type": "markdown",
   "metadata": {},
   "source": [
    "# Coding Exercises (Part 1)"
   ]
  },
  {
   "cell_type": "markdown",
   "metadata": {},
   "source": [
    "Now, you will have the opportunity to analyze your own dataset. <br>\n",
    "__Follow the instructions__ and insert your code! You are either requested to \n",
    "- Complete the Code and __Fill in the gaps__. Gaps are marked with \"__---__\" and are __placeholders__ for your code fragment. \n",
    "- Write Code completely __on your own__ "
   ]
  },
  {
   "cell_type": "markdown",
   "metadata": {},
   "source": [
    "In some exercises, you will find questions that can only be answered, if your code is correct and returns the right output! The correct answer is provided below your coding cell. There you can check whether your code is correct."
   ]
  },
  {
   "cell_type": "markdown",
   "metadata": {},
   "source": [
    "If you need a hint, check the __Hints Section__ at the end of this Notebook. Exercises and Hints are numerated accordingly."
   ]
  },
  {
   "cell_type": "markdown",
   "metadata": {},
   "source": [
    "If you need some further help or if you want to check your code, you can also watch the __solutions videos__ or check the __solutions notebook__."
   ]
  },
  {
   "cell_type": "markdown",
   "metadata": {},
   "source": [
    "### Have Fun!"
   ]
  },
  {
   "cell_type": "markdown",
   "metadata": {},
   "source": [
    "--------------------------------------------------------------------------------------------------------------"
   ]
  },
  {
   "cell_type": "markdown",
   "metadata": {},
   "source": [
    "## Pandas Basics (DataFrame Basics I)"
   ]
  },
  {
   "cell_type": "markdown",
   "metadata": {},
   "source": [
    "### Exercise 1: Importing and Inspecting your own Dataset"
   ]
  },
  {
   "cell_type": "markdown",
   "metadata": {},
   "source": [
    "Before we can work with the Pandas Library, we need to __import Pandas__ (by convention as __pd__). <br>\n",
    "1. __Import__ Pandas. __Fill in the gaps__!"
   ]
  },
  {
   "cell_type": "code",
   "execution_count": 1,
   "metadata": {},
   "outputs": [],
   "source": [
    "import pandas as pd"
   ]
  },
  {
   "cell_type": "markdown",
   "metadata": {},
   "source": [
    "Now we want to import the __Cars Dataset__ that is stored in the CSV-File __cars.csv__. <br>\n",
    "2. __Import__ the Cars Dataset and __store__ the Pandas DataFrame in the variable __cars__! __Fill in the gaps__!"
   ]
  },
  {
   "cell_type": "code",
   "execution_count": 2,
   "metadata": {},
   "outputs": [],
   "source": [
    "cars = pd.read_csv(\"cars.csv\")"
   ]
  },
  {
   "cell_type": "markdown",
   "metadata": {},
   "source": [
    "#### Some more details on the Columns:\n",
    "\n",
    "- __mpg__: Measures __fuel efficiency__ in terms of miles per gallon. __Higher mpg__ means __higher efficiency__\n",
    "- __cylinders__: Number of cylinders in the car\n",
    "- __displacement__: Technical feature (engine)\n",
    "- __horsepower__: Unit of measurement for engine power \n",
    "- __weight__: weight in lbs\n",
    "- __acceleration__: time to accelerate from 0 to 60 mph (sec.)\n",
    "- __model_year__: self explanatory\n",
    "- __origin__: origin of the manufacturer/car\n",
    "- __name__: model name"
   ]
  },
  {
   "cell_type": "markdown",
   "metadata": {},
   "source": [
    "3. __Inspect__ the __first 10 Rows__ of the DataFrame cars! __Fill in the gaps__! What is the __name of the very first car__ in the first row (index label/pos = 0)?"
   ]
  },
  {
   "cell_type": "code",
   "execution_count": 3,
   "metadata": {},
   "outputs": [
    {
     "data": {
      "text/html": [
       "<div>\n",
       "<style scoped>\n",
       "    .dataframe tbody tr th:only-of-type {\n",
       "        vertical-align: middle;\n",
       "    }\n",
       "\n",
       "    .dataframe tbody tr th {\n",
       "        vertical-align: top;\n",
       "    }\n",
       "\n",
       "    .dataframe thead th {\n",
       "        text-align: right;\n",
       "    }\n",
       "</style>\n",
       "<table border=\"1\" class=\"dataframe\">\n",
       "  <thead>\n",
       "    <tr style=\"text-align: right;\">\n",
       "      <th></th>\n",
       "      <th>mpg</th>\n",
       "      <th>cylinders</th>\n",
       "      <th>displacement</th>\n",
       "      <th>horsepower</th>\n",
       "      <th>weight</th>\n",
       "      <th>acceleration</th>\n",
       "      <th>model_year</th>\n",
       "      <th>origin</th>\n",
       "      <th>name</th>\n",
       "    </tr>\n",
       "  </thead>\n",
       "  <tbody>\n",
       "    <tr>\n",
       "      <th>0</th>\n",
       "      <td>18.0</td>\n",
       "      <td>8</td>\n",
       "      <td>307.0</td>\n",
       "      <td>130.0</td>\n",
       "      <td>3504</td>\n",
       "      <td>12.0</td>\n",
       "      <td>70</td>\n",
       "      <td>usa</td>\n",
       "      <td>chevrolet chevelle malibu</td>\n",
       "    </tr>\n",
       "    <tr>\n",
       "      <th>1</th>\n",
       "      <td>15.0</td>\n",
       "      <td>8</td>\n",
       "      <td>350.0</td>\n",
       "      <td>165.0</td>\n",
       "      <td>3693</td>\n",
       "      <td>11.5</td>\n",
       "      <td>70</td>\n",
       "      <td>usa</td>\n",
       "      <td>buick skylark 320</td>\n",
       "    </tr>\n",
       "    <tr>\n",
       "      <th>2</th>\n",
       "      <td>18.0</td>\n",
       "      <td>8</td>\n",
       "      <td>318.0</td>\n",
       "      <td>150.0</td>\n",
       "      <td>3436</td>\n",
       "      <td>11.0</td>\n",
       "      <td>70</td>\n",
       "      <td>usa</td>\n",
       "      <td>plymouth satellite</td>\n",
       "    </tr>\n",
       "    <tr>\n",
       "      <th>3</th>\n",
       "      <td>16.0</td>\n",
       "      <td>8</td>\n",
       "      <td>304.0</td>\n",
       "      <td>150.0</td>\n",
       "      <td>3433</td>\n",
       "      <td>12.0</td>\n",
       "      <td>70</td>\n",
       "      <td>usa</td>\n",
       "      <td>amc rebel sst</td>\n",
       "    </tr>\n",
       "    <tr>\n",
       "      <th>4</th>\n",
       "      <td>17.0</td>\n",
       "      <td>8</td>\n",
       "      <td>302.0</td>\n",
       "      <td>140.0</td>\n",
       "      <td>3449</td>\n",
       "      <td>10.5</td>\n",
       "      <td>70</td>\n",
       "      <td>usa</td>\n",
       "      <td>ford torino</td>\n",
       "    </tr>\n",
       "    <tr>\n",
       "      <th>5</th>\n",
       "      <td>15.0</td>\n",
       "      <td>8</td>\n",
       "      <td>429.0</td>\n",
       "      <td>198.0</td>\n",
       "      <td>4341</td>\n",
       "      <td>10.0</td>\n",
       "      <td>70</td>\n",
       "      <td>usa</td>\n",
       "      <td>ford galaxie 500</td>\n",
       "    </tr>\n",
       "    <tr>\n",
       "      <th>6</th>\n",
       "      <td>14.0</td>\n",
       "      <td>8</td>\n",
       "      <td>454.0</td>\n",
       "      <td>220.0</td>\n",
       "      <td>4354</td>\n",
       "      <td>9.0</td>\n",
       "      <td>70</td>\n",
       "      <td>usa</td>\n",
       "      <td>chevrolet impala</td>\n",
       "    </tr>\n",
       "    <tr>\n",
       "      <th>7</th>\n",
       "      <td>14.0</td>\n",
       "      <td>8</td>\n",
       "      <td>440.0</td>\n",
       "      <td>215.0</td>\n",
       "      <td>4312</td>\n",
       "      <td>8.5</td>\n",
       "      <td>70</td>\n",
       "      <td>usa</td>\n",
       "      <td>plymouth fury iii</td>\n",
       "    </tr>\n",
       "    <tr>\n",
       "      <th>8</th>\n",
       "      <td>14.0</td>\n",
       "      <td>8</td>\n",
       "      <td>455.0</td>\n",
       "      <td>225.0</td>\n",
       "      <td>4425</td>\n",
       "      <td>10.0</td>\n",
       "      <td>70</td>\n",
       "      <td>usa</td>\n",
       "      <td>pontiac catalina</td>\n",
       "    </tr>\n",
       "    <tr>\n",
       "      <th>9</th>\n",
       "      <td>15.0</td>\n",
       "      <td>8</td>\n",
       "      <td>390.0</td>\n",
       "      <td>190.0</td>\n",
       "      <td>3850</td>\n",
       "      <td>8.5</td>\n",
       "      <td>70</td>\n",
       "      <td>usa</td>\n",
       "      <td>amc ambassador dpl</td>\n",
       "    </tr>\n",
       "  </tbody>\n",
       "</table>\n",
       "</div>"
      ],
      "text/plain": [
       "    mpg  cylinders  displacement  horsepower  weight  acceleration  \\\n",
       "0  18.0          8         307.0       130.0    3504          12.0   \n",
       "1  15.0          8         350.0       165.0    3693          11.5   \n",
       "2  18.0          8         318.0       150.0    3436          11.0   \n",
       "3  16.0          8         304.0       150.0    3433          12.0   \n",
       "4  17.0          8         302.0       140.0    3449          10.5   \n",
       "5  15.0          8         429.0       198.0    4341          10.0   \n",
       "6  14.0          8         454.0       220.0    4354           9.0   \n",
       "7  14.0          8         440.0       215.0    4312           8.5   \n",
       "8  14.0          8         455.0       225.0    4425          10.0   \n",
       "9  15.0          8         390.0       190.0    3850           8.5   \n",
       "\n",
       "   model_year origin                       name  \n",
       "0          70    usa  chevrolet chevelle malibu  \n",
       "1          70    usa          buick skylark 320  \n",
       "2          70    usa         plymouth satellite  \n",
       "3          70    usa              amc rebel sst  \n",
       "4          70    usa                ford torino  \n",
       "5          70    usa           ford galaxie 500  \n",
       "6          70    usa           chevrolet impala  \n",
       "7          70    usa          plymouth fury iii  \n",
       "8          70    usa           pontiac catalina  \n",
       "9          70    usa         amc ambassador dpl  "
      ]
     },
     "execution_count": 3,
     "metadata": {},
     "output_type": "execute_result"
    }
   ],
   "source": [
    "cars.head(10)"
   ]
  },
  {
   "cell_type": "markdown",
   "metadata": {},
   "source": [
    "It´s a ... Chevrolet Chevelle Malibu!"
   ]
  },
  {
   "cell_type": "markdown",
   "metadata": {},
   "source": [
    "4. Also inspect the __last 5 Rows__! __How many cars/rows__ do we have in the Dataset (mind the range index starting from 0!)?"
   ]
  },
  {
   "cell_type": "code",
   "execution_count": 4,
   "metadata": {},
   "outputs": [
    {
     "data": {
      "text/html": [
       "<div>\n",
       "<style scoped>\n",
       "    .dataframe tbody tr th:only-of-type {\n",
       "        vertical-align: middle;\n",
       "    }\n",
       "\n",
       "    .dataframe tbody tr th {\n",
       "        vertical-align: top;\n",
       "    }\n",
       "\n",
       "    .dataframe thead th {\n",
       "        text-align: right;\n",
       "    }\n",
       "</style>\n",
       "<table border=\"1\" class=\"dataframe\">\n",
       "  <thead>\n",
       "    <tr style=\"text-align: right;\">\n",
       "      <th></th>\n",
       "      <th>mpg</th>\n",
       "      <th>cylinders</th>\n",
       "      <th>displacement</th>\n",
       "      <th>horsepower</th>\n",
       "      <th>weight</th>\n",
       "      <th>acceleration</th>\n",
       "      <th>model_year</th>\n",
       "      <th>origin</th>\n",
       "      <th>name</th>\n",
       "    </tr>\n",
       "  </thead>\n",
       "  <tbody>\n",
       "    <tr>\n",
       "      <th>393</th>\n",
       "      <td>27.0</td>\n",
       "      <td>4</td>\n",
       "      <td>140.0</td>\n",
       "      <td>86.0</td>\n",
       "      <td>2790</td>\n",
       "      <td>15.6</td>\n",
       "      <td>82</td>\n",
       "      <td>usa</td>\n",
       "      <td>ford mustang gl</td>\n",
       "    </tr>\n",
       "    <tr>\n",
       "      <th>394</th>\n",
       "      <td>44.0</td>\n",
       "      <td>4</td>\n",
       "      <td>97.0</td>\n",
       "      <td>52.0</td>\n",
       "      <td>2130</td>\n",
       "      <td>24.6</td>\n",
       "      <td>82</td>\n",
       "      <td>europe</td>\n",
       "      <td>vw pickup</td>\n",
       "    </tr>\n",
       "    <tr>\n",
       "      <th>395</th>\n",
       "      <td>32.0</td>\n",
       "      <td>4</td>\n",
       "      <td>135.0</td>\n",
       "      <td>84.0</td>\n",
       "      <td>2295</td>\n",
       "      <td>11.6</td>\n",
       "      <td>82</td>\n",
       "      <td>usa</td>\n",
       "      <td>dodge rampage</td>\n",
       "    </tr>\n",
       "    <tr>\n",
       "      <th>396</th>\n",
       "      <td>28.0</td>\n",
       "      <td>4</td>\n",
       "      <td>120.0</td>\n",
       "      <td>79.0</td>\n",
       "      <td>2625</td>\n",
       "      <td>18.6</td>\n",
       "      <td>82</td>\n",
       "      <td>usa</td>\n",
       "      <td>ford ranger</td>\n",
       "    </tr>\n",
       "    <tr>\n",
       "      <th>397</th>\n",
       "      <td>31.0</td>\n",
       "      <td>4</td>\n",
       "      <td>119.0</td>\n",
       "      <td>82.0</td>\n",
       "      <td>2720</td>\n",
       "      <td>19.4</td>\n",
       "      <td>82</td>\n",
       "      <td>usa</td>\n",
       "      <td>chevrolet s-10</td>\n",
       "    </tr>\n",
       "  </tbody>\n",
       "</table>\n",
       "</div>"
      ],
      "text/plain": [
       "      mpg  cylinders  displacement  horsepower  weight  acceleration  \\\n",
       "393  27.0          4         140.0        86.0    2790          15.6   \n",
       "394  44.0          4          97.0        52.0    2130          24.6   \n",
       "395  32.0          4         135.0        84.0    2295          11.6   \n",
       "396  28.0          4         120.0        79.0    2625          18.6   \n",
       "397  31.0          4         119.0        82.0    2720          19.4   \n",
       "\n",
       "     model_year  origin             name  \n",
       "393          82     usa  ford mustang gl  \n",
       "394          82  europe        vw pickup  \n",
       "395          82     usa    dodge rampage  \n",
       "396          82     usa      ford ranger  \n",
       "397          82     usa   chevrolet s-10  "
      ]
     },
     "execution_count": 4,
     "metadata": {},
     "output_type": "execute_result"
    }
   ],
   "source": [
    "cars.tail()"
   ]
  },
  {
   "cell_type": "markdown",
   "metadata": {},
   "source": [
    "We have ... 398 Cars!"
   ]
  },
  {
   "cell_type": "markdown",
   "metadata": {},
   "source": [
    "5. Get some __meta information__ on our DataFrame! In which __Column__ do we have __missing/NaN__ Values?"
   ]
  },
  {
   "cell_type": "code",
   "execution_count": 5,
   "metadata": {},
   "outputs": [
    {
     "name": "stdout",
     "output_type": "stream",
     "text": [
      "<class 'pandas.core.frame.DataFrame'>\n",
      "RangeIndex: 398 entries, 0 to 397\n",
      "Data columns (total 9 columns):\n",
      "mpg             398 non-null float64\n",
      "cylinders       398 non-null int64\n",
      "displacement    398 non-null float64\n",
      "horsepower      392 non-null float64\n",
      "weight          398 non-null int64\n",
      "acceleration    398 non-null float64\n",
      "model_year      398 non-null int64\n",
      "origin          398 non-null object\n",
      "name            398 non-null object\n",
      "dtypes: float64(4), int64(3), object(2)\n",
      "memory usage: 28.1+ KB\n"
     ]
    }
   ],
   "source": [
    "cars.info()"
   ]
  },
  {
   "cell_type": "markdown",
   "metadata": {},
   "source": [
    "We have 6 missing/NaN Values in the column ... horsepower!"
   ]
  },
  {
   "cell_type": "markdown",
   "metadata": {},
   "source": [
    "6. Let´s get some __summary statistics__ on our DataFrame! What is the __maximum__ value in the column __horsepower__?"
   ]
  },
  {
   "cell_type": "code",
   "execution_count": 6,
   "metadata": {},
   "outputs": [
    {
     "data": {
      "text/html": [
       "<div>\n",
       "<style scoped>\n",
       "    .dataframe tbody tr th:only-of-type {\n",
       "        vertical-align: middle;\n",
       "    }\n",
       "\n",
       "    .dataframe tbody tr th {\n",
       "        vertical-align: top;\n",
       "    }\n",
       "\n",
       "    .dataframe thead th {\n",
       "        text-align: right;\n",
       "    }\n",
       "</style>\n",
       "<table border=\"1\" class=\"dataframe\">\n",
       "  <thead>\n",
       "    <tr style=\"text-align: right;\">\n",
       "      <th></th>\n",
       "      <th>mpg</th>\n",
       "      <th>cylinders</th>\n",
       "      <th>displacement</th>\n",
       "      <th>horsepower</th>\n",
       "      <th>weight</th>\n",
       "      <th>acceleration</th>\n",
       "      <th>model_year</th>\n",
       "    </tr>\n",
       "  </thead>\n",
       "  <tbody>\n",
       "    <tr>\n",
       "      <th>count</th>\n",
       "      <td>398.000000</td>\n",
       "      <td>398.000000</td>\n",
       "      <td>398.000000</td>\n",
       "      <td>392.000000</td>\n",
       "      <td>398.000000</td>\n",
       "      <td>398.000000</td>\n",
       "      <td>398.000000</td>\n",
       "    </tr>\n",
       "    <tr>\n",
       "      <th>mean</th>\n",
       "      <td>23.514573</td>\n",
       "      <td>5.454774</td>\n",
       "      <td>193.425879</td>\n",
       "      <td>104.469388</td>\n",
       "      <td>2970.424623</td>\n",
       "      <td>15.568090</td>\n",
       "      <td>76.010050</td>\n",
       "    </tr>\n",
       "    <tr>\n",
       "      <th>std</th>\n",
       "      <td>7.815984</td>\n",
       "      <td>1.701004</td>\n",
       "      <td>104.269838</td>\n",
       "      <td>38.491160</td>\n",
       "      <td>846.841774</td>\n",
       "      <td>2.757689</td>\n",
       "      <td>3.697627</td>\n",
       "    </tr>\n",
       "    <tr>\n",
       "      <th>min</th>\n",
       "      <td>9.000000</td>\n",
       "      <td>3.000000</td>\n",
       "      <td>68.000000</td>\n",
       "      <td>46.000000</td>\n",
       "      <td>1613.000000</td>\n",
       "      <td>8.000000</td>\n",
       "      <td>70.000000</td>\n",
       "    </tr>\n",
       "    <tr>\n",
       "      <th>25%</th>\n",
       "      <td>17.500000</td>\n",
       "      <td>4.000000</td>\n",
       "      <td>104.250000</td>\n",
       "      <td>75.000000</td>\n",
       "      <td>2223.750000</td>\n",
       "      <td>13.825000</td>\n",
       "      <td>73.000000</td>\n",
       "    </tr>\n",
       "    <tr>\n",
       "      <th>50%</th>\n",
       "      <td>23.000000</td>\n",
       "      <td>4.000000</td>\n",
       "      <td>148.500000</td>\n",
       "      <td>93.500000</td>\n",
       "      <td>2803.500000</td>\n",
       "      <td>15.500000</td>\n",
       "      <td>76.000000</td>\n",
       "    </tr>\n",
       "    <tr>\n",
       "      <th>75%</th>\n",
       "      <td>29.000000</td>\n",
       "      <td>8.000000</td>\n",
       "      <td>262.000000</td>\n",
       "      <td>126.000000</td>\n",
       "      <td>3608.000000</td>\n",
       "      <td>17.175000</td>\n",
       "      <td>79.000000</td>\n",
       "    </tr>\n",
       "    <tr>\n",
       "      <th>max</th>\n",
       "      <td>46.600000</td>\n",
       "      <td>8.000000</td>\n",
       "      <td>455.000000</td>\n",
       "      <td>230.000000</td>\n",
       "      <td>5140.000000</td>\n",
       "      <td>24.800000</td>\n",
       "      <td>82.000000</td>\n",
       "    </tr>\n",
       "  </tbody>\n",
       "</table>\n",
       "</div>"
      ],
      "text/plain": [
       "              mpg   cylinders  displacement  horsepower       weight  \\\n",
       "count  398.000000  398.000000    398.000000  392.000000   398.000000   \n",
       "mean    23.514573    5.454774    193.425879  104.469388  2970.424623   \n",
       "std      7.815984    1.701004    104.269838   38.491160   846.841774   \n",
       "min      9.000000    3.000000     68.000000   46.000000  1613.000000   \n",
       "25%     17.500000    4.000000    104.250000   75.000000  2223.750000   \n",
       "50%     23.000000    4.000000    148.500000   93.500000  2803.500000   \n",
       "75%     29.000000    8.000000    262.000000  126.000000  3608.000000   \n",
       "max     46.600000    8.000000    455.000000  230.000000  5140.000000   \n",
       "\n",
       "       acceleration  model_year  \n",
       "count    398.000000  398.000000  \n",
       "mean      15.568090   76.010050  \n",
       "std        2.757689    3.697627  \n",
       "min        8.000000   70.000000  \n",
       "25%       13.825000   73.000000  \n",
       "50%       15.500000   76.000000  \n",
       "75%       17.175000   79.000000  \n",
       "max       24.800000   82.000000  "
      ]
     },
     "execution_count": 6,
     "metadata": {},
     "output_type": "execute_result"
    }
   ],
   "source": [
    "cars.describe()"
   ]
  },
  {
   "cell_type": "markdown",
   "metadata": {},
   "source": [
    "The maximum value in the column horsepower is ... 230!"
   ]
  },
  {
   "cell_type": "markdown",
   "metadata": {},
   "source": [
    "-------------------------------"
   ]
  },
  {
   "cell_type": "markdown",
   "metadata": {},
   "source": [
    "### Exercise 2: Indexing and Slicing"
   ]
  },
  {
   "cell_type": "markdown",
   "metadata": {},
   "source": [
    "7. __Import Pandas__ (as pd), <br>\n",
    "__Import__ the Cars Dataset (__cars.csv__) and save the DataFrame in the variable __cars__ and<br>\n",
    "Inspect the __first 5 Rows__!"
   ]
  },
  {
   "cell_type": "code",
   "execution_count": 7,
   "metadata": {},
   "outputs": [],
   "source": [
    "import pandas as pd"
   ]
  },
  {
   "cell_type": "code",
   "execution_count": 8,
   "metadata": {},
   "outputs": [],
   "source": [
    "cars = pd.read_csv(\"cars.csv\")"
   ]
  },
  {
   "cell_type": "code",
   "execution_count": 9,
   "metadata": {},
   "outputs": [
    {
     "data": {
      "text/html": [
       "<div>\n",
       "<style scoped>\n",
       "    .dataframe tbody tr th:only-of-type {\n",
       "        vertical-align: middle;\n",
       "    }\n",
       "\n",
       "    .dataframe tbody tr th {\n",
       "        vertical-align: top;\n",
       "    }\n",
       "\n",
       "    .dataframe thead th {\n",
       "        text-align: right;\n",
       "    }\n",
       "</style>\n",
       "<table border=\"1\" class=\"dataframe\">\n",
       "  <thead>\n",
       "    <tr style=\"text-align: right;\">\n",
       "      <th></th>\n",
       "      <th>mpg</th>\n",
       "      <th>cylinders</th>\n",
       "      <th>displacement</th>\n",
       "      <th>horsepower</th>\n",
       "      <th>weight</th>\n",
       "      <th>acceleration</th>\n",
       "      <th>model_year</th>\n",
       "      <th>origin</th>\n",
       "      <th>name</th>\n",
       "    </tr>\n",
       "  </thead>\n",
       "  <tbody>\n",
       "    <tr>\n",
       "      <th>0</th>\n",
       "      <td>18.0</td>\n",
       "      <td>8</td>\n",
       "      <td>307.0</td>\n",
       "      <td>130.0</td>\n",
       "      <td>3504</td>\n",
       "      <td>12.0</td>\n",
       "      <td>70</td>\n",
       "      <td>usa</td>\n",
       "      <td>chevrolet chevelle malibu</td>\n",
       "    </tr>\n",
       "    <tr>\n",
       "      <th>1</th>\n",
       "      <td>15.0</td>\n",
       "      <td>8</td>\n",
       "      <td>350.0</td>\n",
       "      <td>165.0</td>\n",
       "      <td>3693</td>\n",
       "      <td>11.5</td>\n",
       "      <td>70</td>\n",
       "      <td>usa</td>\n",
       "      <td>buick skylark 320</td>\n",
       "    </tr>\n",
       "    <tr>\n",
       "      <th>2</th>\n",
       "      <td>18.0</td>\n",
       "      <td>8</td>\n",
       "      <td>318.0</td>\n",
       "      <td>150.0</td>\n",
       "      <td>3436</td>\n",
       "      <td>11.0</td>\n",
       "      <td>70</td>\n",
       "      <td>usa</td>\n",
       "      <td>plymouth satellite</td>\n",
       "    </tr>\n",
       "    <tr>\n",
       "      <th>3</th>\n",
       "      <td>16.0</td>\n",
       "      <td>8</td>\n",
       "      <td>304.0</td>\n",
       "      <td>150.0</td>\n",
       "      <td>3433</td>\n",
       "      <td>12.0</td>\n",
       "      <td>70</td>\n",
       "      <td>usa</td>\n",
       "      <td>amc rebel sst</td>\n",
       "    </tr>\n",
       "    <tr>\n",
       "      <th>4</th>\n",
       "      <td>17.0</td>\n",
       "      <td>8</td>\n",
       "      <td>302.0</td>\n",
       "      <td>140.0</td>\n",
       "      <td>3449</td>\n",
       "      <td>10.5</td>\n",
       "      <td>70</td>\n",
       "      <td>usa</td>\n",
       "      <td>ford torino</td>\n",
       "    </tr>\n",
       "  </tbody>\n",
       "</table>\n",
       "</div>"
      ],
      "text/plain": [
       "    mpg  cylinders  displacement  horsepower  weight  acceleration  \\\n",
       "0  18.0          8         307.0       130.0    3504          12.0   \n",
       "1  15.0          8         350.0       165.0    3693          11.5   \n",
       "2  18.0          8         318.0       150.0    3436          11.0   \n",
       "3  16.0          8         304.0       150.0    3433          12.0   \n",
       "4  17.0          8         302.0       140.0    3449          10.5   \n",
       "\n",
       "   model_year origin                       name  \n",
       "0          70    usa  chevrolet chevelle malibu  \n",
       "1          70    usa          buick skylark 320  \n",
       "2          70    usa         plymouth satellite  \n",
       "3          70    usa              amc rebel sst  \n",
       "4          70    usa                ford torino  "
      ]
     },
     "execution_count": 9,
     "metadata": {},
     "output_type": "execute_result"
    }
   ],
   "source": [
    "cars.head()"
   ]
  },
  {
   "cell_type": "markdown",
   "metadata": {},
   "source": [
    "8. Select the column __\"name\"__ with the __attribute__ notation! What is the __name__ of the car with __index label 8__?"
   ]
  },
  {
   "cell_type": "code",
   "execution_count": 10,
   "metadata": {
    "scrolled": true
   },
   "outputs": [
    {
     "data": {
      "text/plain": [
       "0              chevrolet chevelle malibu\n",
       "1                      buick skylark 320\n",
       "2                     plymouth satellite\n",
       "3                          amc rebel sst\n",
       "4                            ford torino\n",
       "5                       ford galaxie 500\n",
       "6                       chevrolet impala\n",
       "7                      plymouth fury iii\n",
       "8                       pontiac catalina\n",
       "9                     amc ambassador dpl\n",
       "10                   dodge challenger se\n",
       "11                    plymouth 'cuda 340\n",
       "12                 chevrolet monte carlo\n",
       "13               buick estate wagon (sw)\n",
       "14                 toyota corona mark ii\n",
       "15                       plymouth duster\n",
       "16                            amc hornet\n",
       "17                         ford maverick\n",
       "18                          datsun pl510\n",
       "19                  vw 1131 deluxe sedan\n",
       "20                           peugeot 504\n",
       "21                           audi 100 ls\n",
       "22                              saab 99e\n",
       "23                              bmw 2002\n",
       "24                           amc gremlin\n",
       "25                             ford f250\n",
       "26                         chevrolet c20\n",
       "27                            dodge d200\n",
       "28                              ih 1200d\n",
       "29                          datsun pl510\n",
       "                     ...                \n",
       "368             chevrolet cavalier wagon\n",
       "369            chevrolet cavalier 2-door\n",
       "370           pontiac j2000 se hatchback\n",
       "371                       dodge aries se\n",
       "372                      pontiac phoenix\n",
       "373                 ford fairmont futura\n",
       "374                       amc concord dl\n",
       "375                          vw rabbit l\n",
       "376                   mazda glc custom l\n",
       "377                     mazda glc custom\n",
       "378               plymouth horizon miser\n",
       "379                       mercury lynx l\n",
       "380                     nissan stanza xe\n",
       "381                         honda accord\n",
       "382                       toyota corolla\n",
       "383                          honda civic\n",
       "384                   honda civic (auto)\n",
       "385                        datsun 310 gx\n",
       "386                buick century limited\n",
       "387    oldsmobile cutlass ciera (diesel)\n",
       "388           chrysler lebaron medallion\n",
       "389                       ford granada l\n",
       "390                     toyota celica gt\n",
       "391                    dodge charger 2.2\n",
       "392                     chevrolet camaro\n",
       "393                      ford mustang gl\n",
       "394                            vw pickup\n",
       "395                        dodge rampage\n",
       "396                          ford ranger\n",
       "397                       chevrolet s-10\n",
       "Name: name, Length: 398, dtype: object"
      ]
     },
     "execution_count": 10,
     "metadata": {},
     "output_type": "execute_result"
    }
   ],
   "source": [
    "cars.name"
   ]
  },
  {
   "cell_type": "markdown",
   "metadata": {},
   "source": [
    "The name is ... pontiac catalina!"
   ]
  },
  {
   "cell_type": "markdown",
   "metadata": {},
   "source": [
    "9. Apply also the __second alternative__ to select the column __\"name\"__!"
   ]
  },
  {
   "cell_type": "code",
   "execution_count": 11,
   "metadata": {
    "scrolled": true
   },
   "outputs": [
    {
     "data": {
      "text/plain": [
       "0              chevrolet chevelle malibu\n",
       "1                      buick skylark 320\n",
       "2                     plymouth satellite\n",
       "3                          amc rebel sst\n",
       "4                            ford torino\n",
       "5                       ford galaxie 500\n",
       "6                       chevrolet impala\n",
       "7                      plymouth fury iii\n",
       "8                       pontiac catalina\n",
       "9                     amc ambassador dpl\n",
       "10                   dodge challenger se\n",
       "11                    plymouth 'cuda 340\n",
       "12                 chevrolet monte carlo\n",
       "13               buick estate wagon (sw)\n",
       "14                 toyota corona mark ii\n",
       "15                       plymouth duster\n",
       "16                            amc hornet\n",
       "17                         ford maverick\n",
       "18                          datsun pl510\n",
       "19                  vw 1131 deluxe sedan\n",
       "20                           peugeot 504\n",
       "21                           audi 100 ls\n",
       "22                              saab 99e\n",
       "23                              bmw 2002\n",
       "24                           amc gremlin\n",
       "25                             ford f250\n",
       "26                         chevrolet c20\n",
       "27                            dodge d200\n",
       "28                              ih 1200d\n",
       "29                          datsun pl510\n",
       "                     ...                \n",
       "368             chevrolet cavalier wagon\n",
       "369            chevrolet cavalier 2-door\n",
       "370           pontiac j2000 se hatchback\n",
       "371                       dodge aries se\n",
       "372                      pontiac phoenix\n",
       "373                 ford fairmont futura\n",
       "374                       amc concord dl\n",
       "375                          vw rabbit l\n",
       "376                   mazda glc custom l\n",
       "377                     mazda glc custom\n",
       "378               plymouth horizon miser\n",
       "379                       mercury lynx l\n",
       "380                     nissan stanza xe\n",
       "381                         honda accord\n",
       "382                       toyota corolla\n",
       "383                          honda civic\n",
       "384                   honda civic (auto)\n",
       "385                        datsun 310 gx\n",
       "386                buick century limited\n",
       "387    oldsmobile cutlass ciera (diesel)\n",
       "388           chrysler lebaron medallion\n",
       "389                       ford granada l\n",
       "390                     toyota celica gt\n",
       "391                    dodge charger 2.2\n",
       "392                     chevrolet camaro\n",
       "393                      ford mustang gl\n",
       "394                            vw pickup\n",
       "395                        dodge rampage\n",
       "396                          ford ranger\n",
       "397                       chevrolet s-10\n",
       "Name: name, Length: 398, dtype: object"
      ]
     },
     "execution_count": 11,
     "metadata": {},
     "output_type": "execute_result"
    }
   ],
   "source": [
    "cars[\"name\"]"
   ]
  },
  {
   "cell_type": "markdown",
   "metadata": {},
   "source": [
    "10. __Select__ the car/row at __index position 100__ with the __iloc__ operator (all columns)! How many __cylinders__ does the car have?"
   ]
  },
  {
   "cell_type": "code",
   "execution_count": 12,
   "metadata": {
    "scrolled": true
   },
   "outputs": [
    {
     "data": {
      "text/plain": [
       "mpg                        18\n",
       "cylinders                   6\n",
       "displacement              250\n",
       "horsepower                 88\n",
       "weight                   3021\n",
       "acceleration             16.5\n",
       "model_year                 73\n",
       "origin                    usa\n",
       "name            ford maverick\n",
       "Name: 100, dtype: object"
      ]
     },
     "execution_count": 12,
     "metadata": {},
     "output_type": "execute_result"
    }
   ],
   "source": [
    "cars.iloc[100]"
   ]
  },
  {
   "cell_type": "markdown",
   "metadata": {},
   "source": [
    "The car has ... 6 cylinders!"
   ]
  },
  {
   "cell_type": "markdown",
   "metadata": {},
   "source": [
    "11. Select the car/row at __index position 200__ with the __iloc__ operator (and only the column __\"name\"__)! <br>\n",
    "What is the __name__ of the car?"
   ]
  },
  {
   "cell_type": "code",
   "execution_count": 13,
   "metadata": {},
   "outputs": [
    {
     "data": {
      "text/plain": [
       "'ford granada ghia'"
      ]
     },
     "execution_count": 13,
     "metadata": {},
     "output_type": "execute_result"
    }
   ],
   "source": [
    "cars.iloc[200, 8]"
   ]
  },
  {
   "cell_type": "markdown",
   "metadata": {},
   "source": [
    "It´s a ... ford granada ghia!"
   ]
  },
  {
   "cell_type": "markdown",
   "metadata": {},
   "source": [
    "12. Select the __last 10 rows__ and the columns __mpg, horsepower, origin__ and __name__ with the __iloc__ operator! __Fill in the Gaps__! <br>\n",
    "What is the __mpg__ of the __vw pickup__?"
   ]
  },
  {
   "cell_type": "code",
   "execution_count": 14,
   "metadata": {},
   "outputs": [
    {
     "data": {
      "text/html": [
       "<div>\n",
       "<style scoped>\n",
       "    .dataframe tbody tr th:only-of-type {\n",
       "        vertical-align: middle;\n",
       "    }\n",
       "\n",
       "    .dataframe tbody tr th {\n",
       "        vertical-align: top;\n",
       "    }\n",
       "\n",
       "    .dataframe thead th {\n",
       "        text-align: right;\n",
       "    }\n",
       "</style>\n",
       "<table border=\"1\" class=\"dataframe\">\n",
       "  <thead>\n",
       "    <tr style=\"text-align: right;\">\n",
       "      <th></th>\n",
       "      <th>mpg</th>\n",
       "      <th>horsepower</th>\n",
       "      <th>origin</th>\n",
       "      <th>name</th>\n",
       "    </tr>\n",
       "  </thead>\n",
       "  <tbody>\n",
       "    <tr>\n",
       "      <th>388</th>\n",
       "      <td>26.0</td>\n",
       "      <td>92.0</td>\n",
       "      <td>usa</td>\n",
       "      <td>chrysler lebaron medallion</td>\n",
       "    </tr>\n",
       "    <tr>\n",
       "      <th>389</th>\n",
       "      <td>22.0</td>\n",
       "      <td>112.0</td>\n",
       "      <td>usa</td>\n",
       "      <td>ford granada l</td>\n",
       "    </tr>\n",
       "    <tr>\n",
       "      <th>390</th>\n",
       "      <td>32.0</td>\n",
       "      <td>96.0</td>\n",
       "      <td>japan</td>\n",
       "      <td>toyota celica gt</td>\n",
       "    </tr>\n",
       "    <tr>\n",
       "      <th>391</th>\n",
       "      <td>36.0</td>\n",
       "      <td>84.0</td>\n",
       "      <td>usa</td>\n",
       "      <td>dodge charger 2.2</td>\n",
       "    </tr>\n",
       "    <tr>\n",
       "      <th>392</th>\n",
       "      <td>27.0</td>\n",
       "      <td>90.0</td>\n",
       "      <td>usa</td>\n",
       "      <td>chevrolet camaro</td>\n",
       "    </tr>\n",
       "    <tr>\n",
       "      <th>393</th>\n",
       "      <td>27.0</td>\n",
       "      <td>86.0</td>\n",
       "      <td>usa</td>\n",
       "      <td>ford mustang gl</td>\n",
       "    </tr>\n",
       "    <tr>\n",
       "      <th>394</th>\n",
       "      <td>44.0</td>\n",
       "      <td>52.0</td>\n",
       "      <td>europe</td>\n",
       "      <td>vw pickup</td>\n",
       "    </tr>\n",
       "    <tr>\n",
       "      <th>395</th>\n",
       "      <td>32.0</td>\n",
       "      <td>84.0</td>\n",
       "      <td>usa</td>\n",
       "      <td>dodge rampage</td>\n",
       "    </tr>\n",
       "    <tr>\n",
       "      <th>396</th>\n",
       "      <td>28.0</td>\n",
       "      <td>79.0</td>\n",
       "      <td>usa</td>\n",
       "      <td>ford ranger</td>\n",
       "    </tr>\n",
       "    <tr>\n",
       "      <th>397</th>\n",
       "      <td>31.0</td>\n",
       "      <td>82.0</td>\n",
       "      <td>usa</td>\n",
       "      <td>chevrolet s-10</td>\n",
       "    </tr>\n",
       "  </tbody>\n",
       "</table>\n",
       "</div>"
      ],
      "text/plain": [
       "      mpg  horsepower  origin                        name\n",
       "388  26.0        92.0     usa  chrysler lebaron medallion\n",
       "389  22.0       112.0     usa              ford granada l\n",
       "390  32.0        96.0   japan            toyota celica gt\n",
       "391  36.0        84.0     usa           dodge charger 2.2\n",
       "392  27.0        90.0     usa            chevrolet camaro\n",
       "393  27.0        86.0     usa             ford mustang gl\n",
       "394  44.0        52.0  europe                   vw pickup\n",
       "395  32.0        84.0     usa               dodge rampage\n",
       "396  28.0        79.0     usa                 ford ranger\n",
       "397  31.0        82.0     usa              chevrolet s-10"
      ]
     },
     "execution_count": 14,
     "metadata": {},
     "output_type": "execute_result"
    }
   ],
   "source": [
    "cars.iloc[-10:, [0, 3, 7, 8]]"
   ]
  },
  {
   "cell_type": "markdown",
   "metadata": {},
   "source": [
    "The mpg is ... 44.0!"
   ]
  },
  {
   "cell_type": "markdown",
   "metadata": {},
   "source": [
    "13. __Import__ the __Cars Dataset__ one more time (save in the variable __cars__) and set the column __\"name\"__ as the __index__! <br>\n",
    "__Fill in the Gaps__!"
   ]
  },
  {
   "cell_type": "code",
   "execution_count": 15,
   "metadata": {},
   "outputs": [],
   "source": [
    "cars = pd.read_csv(\"cars.csv\", index_col = \"name\")"
   ]
  },
  {
   "cell_type": "code",
   "execution_count": 16,
   "metadata": {},
   "outputs": [
    {
     "data": {
      "text/html": [
       "<div>\n",
       "<style scoped>\n",
       "    .dataframe tbody tr th:only-of-type {\n",
       "        vertical-align: middle;\n",
       "    }\n",
       "\n",
       "    .dataframe tbody tr th {\n",
       "        vertical-align: top;\n",
       "    }\n",
       "\n",
       "    .dataframe thead th {\n",
       "        text-align: right;\n",
       "    }\n",
       "</style>\n",
       "<table border=\"1\" class=\"dataframe\">\n",
       "  <thead>\n",
       "    <tr style=\"text-align: right;\">\n",
       "      <th></th>\n",
       "      <th>mpg</th>\n",
       "      <th>cylinders</th>\n",
       "      <th>displacement</th>\n",
       "      <th>horsepower</th>\n",
       "      <th>weight</th>\n",
       "      <th>acceleration</th>\n",
       "      <th>model_year</th>\n",
       "      <th>origin</th>\n",
       "    </tr>\n",
       "    <tr>\n",
       "      <th>name</th>\n",
       "      <th></th>\n",
       "      <th></th>\n",
       "      <th></th>\n",
       "      <th></th>\n",
       "      <th></th>\n",
       "      <th></th>\n",
       "      <th></th>\n",
       "      <th></th>\n",
       "    </tr>\n",
       "  </thead>\n",
       "  <tbody>\n",
       "    <tr>\n",
       "      <th>chevrolet chevelle malibu</th>\n",
       "      <td>18.0</td>\n",
       "      <td>8</td>\n",
       "      <td>307.0</td>\n",
       "      <td>130.0</td>\n",
       "      <td>3504</td>\n",
       "      <td>12.0</td>\n",
       "      <td>70</td>\n",
       "      <td>usa</td>\n",
       "    </tr>\n",
       "    <tr>\n",
       "      <th>buick skylark 320</th>\n",
       "      <td>15.0</td>\n",
       "      <td>8</td>\n",
       "      <td>350.0</td>\n",
       "      <td>165.0</td>\n",
       "      <td>3693</td>\n",
       "      <td>11.5</td>\n",
       "      <td>70</td>\n",
       "      <td>usa</td>\n",
       "    </tr>\n",
       "    <tr>\n",
       "      <th>plymouth satellite</th>\n",
       "      <td>18.0</td>\n",
       "      <td>8</td>\n",
       "      <td>318.0</td>\n",
       "      <td>150.0</td>\n",
       "      <td>3436</td>\n",
       "      <td>11.0</td>\n",
       "      <td>70</td>\n",
       "      <td>usa</td>\n",
       "    </tr>\n",
       "    <tr>\n",
       "      <th>amc rebel sst</th>\n",
       "      <td>16.0</td>\n",
       "      <td>8</td>\n",
       "      <td>304.0</td>\n",
       "      <td>150.0</td>\n",
       "      <td>3433</td>\n",
       "      <td>12.0</td>\n",
       "      <td>70</td>\n",
       "      <td>usa</td>\n",
       "    </tr>\n",
       "    <tr>\n",
       "      <th>ford torino</th>\n",
       "      <td>17.0</td>\n",
       "      <td>8</td>\n",
       "      <td>302.0</td>\n",
       "      <td>140.0</td>\n",
       "      <td>3449</td>\n",
       "      <td>10.5</td>\n",
       "      <td>70</td>\n",
       "      <td>usa</td>\n",
       "    </tr>\n",
       "  </tbody>\n",
       "</table>\n",
       "</div>"
      ],
      "text/plain": [
       "                            mpg  cylinders  displacement  horsepower  weight  \\\n",
       "name                                                                           \n",
       "chevrolet chevelle malibu  18.0          8         307.0       130.0    3504   \n",
       "buick skylark 320          15.0          8         350.0       165.0    3693   \n",
       "plymouth satellite         18.0          8         318.0       150.0    3436   \n",
       "amc rebel sst              16.0          8         304.0       150.0    3433   \n",
       "ford torino                17.0          8         302.0       140.0    3449   \n",
       "\n",
       "                           acceleration  model_year origin  \n",
       "name                                                        \n",
       "chevrolet chevelle malibu          12.0          70    usa  \n",
       "buick skylark 320                  11.5          70    usa  \n",
       "plymouth satellite                 11.0          70    usa  \n",
       "amc rebel sst                      12.0          70    usa  \n",
       "ford torino                        10.5          70    usa  "
      ]
     },
     "execution_count": 16,
     "metadata": {},
     "output_type": "execute_result"
    }
   ],
   "source": [
    "#run the cell and inspect!\n",
    "cars.head()"
   ]
  },
  {
   "cell_type": "code",
   "execution_count": 17,
   "metadata": {},
   "outputs": [
    {
     "name": "stdout",
     "output_type": "stream",
     "text": [
      "<class 'pandas.core.frame.DataFrame'>\n",
      "Index: 398 entries, chevrolet chevelle malibu to chevrolet s-10\n",
      "Data columns (total 8 columns):\n",
      "mpg             398 non-null float64\n",
      "cylinders       398 non-null int64\n",
      "displacement    398 non-null float64\n",
      "horsepower      392 non-null float64\n",
      "weight          398 non-null int64\n",
      "acceleration    398 non-null float64\n",
      "model_year      398 non-null int64\n",
      "origin          398 non-null object\n",
      "dtypes: float64(4), int64(3), object(1)\n",
      "memory usage: 28.0+ KB\n"
     ]
    }
   ],
   "source": [
    "#run the cell and inspect!\n",
    "cars.info()"
   ]
  },
  {
   "cell_type": "markdown",
   "metadata": {},
   "source": [
    "14. __Inspect__ the new Index of the DataFrame by calling the __index__ attribute!"
   ]
  },
  {
   "cell_type": "code",
   "execution_count": 18,
   "metadata": {
    "scrolled": true
   },
   "outputs": [
    {
     "data": {
      "text/plain": [
       "Index(['chevrolet chevelle malibu', 'buick skylark 320', 'plymouth satellite',\n",
       "       'amc rebel sst', 'ford torino', 'ford galaxie 500', 'chevrolet impala',\n",
       "       'plymouth fury iii', 'pontiac catalina', 'amc ambassador dpl',\n",
       "       ...\n",
       "       'chrysler lebaron medallion', 'ford granada l', 'toyota celica gt',\n",
       "       'dodge charger 2.2', 'chevrolet camaro', 'ford mustang gl', 'vw pickup',\n",
       "       'dodge rampage', 'ford ranger', 'chevrolet s-10'],\n",
       "      dtype='object', name='name', length=398)"
      ]
     },
     "execution_count": 18,
     "metadata": {},
     "output_type": "execute_result"
    }
   ],
   "source": [
    "cars.index"
   ]
  },
  {
   "cell_type": "markdown",
   "metadata": {},
   "source": [
    "15. Select the __row__ with the index label __\"ford ranger\"__ (use the __loc__ operator)! What is the __weight__?"
   ]
  },
  {
   "cell_type": "code",
   "execution_count": 19,
   "metadata": {
    "scrolled": true
   },
   "outputs": [
    {
     "data": {
      "text/plain": [
       "mpg               28\n",
       "cylinders          4\n",
       "displacement     120\n",
       "horsepower        79\n",
       "weight          2625\n",
       "acceleration    18.6\n",
       "model_year        82\n",
       "origin           usa\n",
       "Name: ford ranger, dtype: object"
      ]
     },
     "execution_count": 19,
     "metadata": {},
     "output_type": "execute_result"
    }
   ],
   "source": [
    "cars.loc[\"ford ranger\"]"
   ]
  },
  {
   "cell_type": "markdown",
   "metadata": {},
   "source": [
    "The weight is ... 2625!"
   ]
  },
  {
   "cell_type": "markdown",
   "metadata": {},
   "source": [
    "16. Select the __row__ with the index label __\"ford torino\"__ and only the columns __\"model_year\"__ and __\"origin\"__! <br>\n",
    "What´s the __model year__?"
   ]
  },
  {
   "cell_type": "code",
   "execution_count": 20,
   "metadata": {},
   "outputs": [
    {
     "data": {
      "text/plain": [
       "model_year     70\n",
       "origin        usa\n",
       "Name: ford torino, dtype: object"
      ]
     },
     "execution_count": 20,
     "metadata": {},
     "output_type": "execute_result"
    }
   ],
   "source": [
    "cars.loc[\"ford torino\", [\"model_year\", \"origin\"]]"
   ]
  },
  {
   "cell_type": "markdown",
   "metadata": {},
   "source": [
    "The model year is ... 70!"
   ]
  },
  {
   "cell_type": "markdown",
   "metadata": {},
   "source": [
    "17. Select the columns __\"mpg\"__ and __\"weight\"__ (all rows) with the __loc__ operator!"
   ]
  },
  {
   "cell_type": "code",
   "execution_count": 21,
   "metadata": {
    "scrolled": true
   },
   "outputs": [
    {
     "data": {
      "text/html": [
       "<div>\n",
       "<style scoped>\n",
       "    .dataframe tbody tr th:only-of-type {\n",
       "        vertical-align: middle;\n",
       "    }\n",
       "\n",
       "    .dataframe tbody tr th {\n",
       "        vertical-align: top;\n",
       "    }\n",
       "\n",
       "    .dataframe thead th {\n",
       "        text-align: right;\n",
       "    }\n",
       "</style>\n",
       "<table border=\"1\" class=\"dataframe\">\n",
       "  <thead>\n",
       "    <tr style=\"text-align: right;\">\n",
       "      <th></th>\n",
       "      <th>mpg</th>\n",
       "      <th>weight</th>\n",
       "    </tr>\n",
       "    <tr>\n",
       "      <th>name</th>\n",
       "      <th></th>\n",
       "      <th></th>\n",
       "    </tr>\n",
       "  </thead>\n",
       "  <tbody>\n",
       "    <tr>\n",
       "      <th>chevrolet chevelle malibu</th>\n",
       "      <td>18.0</td>\n",
       "      <td>3504</td>\n",
       "    </tr>\n",
       "    <tr>\n",
       "      <th>buick skylark 320</th>\n",
       "      <td>15.0</td>\n",
       "      <td>3693</td>\n",
       "    </tr>\n",
       "    <tr>\n",
       "      <th>plymouth satellite</th>\n",
       "      <td>18.0</td>\n",
       "      <td>3436</td>\n",
       "    </tr>\n",
       "    <tr>\n",
       "      <th>amc rebel sst</th>\n",
       "      <td>16.0</td>\n",
       "      <td>3433</td>\n",
       "    </tr>\n",
       "    <tr>\n",
       "      <th>ford torino</th>\n",
       "      <td>17.0</td>\n",
       "      <td>3449</td>\n",
       "    </tr>\n",
       "    <tr>\n",
       "      <th>ford galaxie 500</th>\n",
       "      <td>15.0</td>\n",
       "      <td>4341</td>\n",
       "    </tr>\n",
       "    <tr>\n",
       "      <th>chevrolet impala</th>\n",
       "      <td>14.0</td>\n",
       "      <td>4354</td>\n",
       "    </tr>\n",
       "    <tr>\n",
       "      <th>plymouth fury iii</th>\n",
       "      <td>14.0</td>\n",
       "      <td>4312</td>\n",
       "    </tr>\n",
       "    <tr>\n",
       "      <th>pontiac catalina</th>\n",
       "      <td>14.0</td>\n",
       "      <td>4425</td>\n",
       "    </tr>\n",
       "    <tr>\n",
       "      <th>amc ambassador dpl</th>\n",
       "      <td>15.0</td>\n",
       "      <td>3850</td>\n",
       "    </tr>\n",
       "    <tr>\n",
       "      <th>dodge challenger se</th>\n",
       "      <td>15.0</td>\n",
       "      <td>3563</td>\n",
       "    </tr>\n",
       "    <tr>\n",
       "      <th>plymouth 'cuda 340</th>\n",
       "      <td>14.0</td>\n",
       "      <td>3609</td>\n",
       "    </tr>\n",
       "    <tr>\n",
       "      <th>chevrolet monte carlo</th>\n",
       "      <td>15.0</td>\n",
       "      <td>3761</td>\n",
       "    </tr>\n",
       "    <tr>\n",
       "      <th>buick estate wagon (sw)</th>\n",
       "      <td>14.0</td>\n",
       "      <td>3086</td>\n",
       "    </tr>\n",
       "    <tr>\n",
       "      <th>toyota corona mark ii</th>\n",
       "      <td>24.0</td>\n",
       "      <td>2372</td>\n",
       "    </tr>\n",
       "    <tr>\n",
       "      <th>plymouth duster</th>\n",
       "      <td>22.0</td>\n",
       "      <td>2833</td>\n",
       "    </tr>\n",
       "    <tr>\n",
       "      <th>amc hornet</th>\n",
       "      <td>18.0</td>\n",
       "      <td>2774</td>\n",
       "    </tr>\n",
       "    <tr>\n",
       "      <th>ford maverick</th>\n",
       "      <td>21.0</td>\n",
       "      <td>2587</td>\n",
       "    </tr>\n",
       "    <tr>\n",
       "      <th>datsun pl510</th>\n",
       "      <td>27.0</td>\n",
       "      <td>2130</td>\n",
       "    </tr>\n",
       "    <tr>\n",
       "      <th>vw 1131 deluxe sedan</th>\n",
       "      <td>26.0</td>\n",
       "      <td>1835</td>\n",
       "    </tr>\n",
       "    <tr>\n",
       "      <th>peugeot 504</th>\n",
       "      <td>25.0</td>\n",
       "      <td>2672</td>\n",
       "    </tr>\n",
       "    <tr>\n",
       "      <th>audi 100 ls</th>\n",
       "      <td>24.0</td>\n",
       "      <td>2430</td>\n",
       "    </tr>\n",
       "    <tr>\n",
       "      <th>saab 99e</th>\n",
       "      <td>25.0</td>\n",
       "      <td>2375</td>\n",
       "    </tr>\n",
       "    <tr>\n",
       "      <th>bmw 2002</th>\n",
       "      <td>26.0</td>\n",
       "      <td>2234</td>\n",
       "    </tr>\n",
       "    <tr>\n",
       "      <th>amc gremlin</th>\n",
       "      <td>21.0</td>\n",
       "      <td>2648</td>\n",
       "    </tr>\n",
       "    <tr>\n",
       "      <th>ford f250</th>\n",
       "      <td>10.0</td>\n",
       "      <td>4615</td>\n",
       "    </tr>\n",
       "    <tr>\n",
       "      <th>chevrolet c20</th>\n",
       "      <td>10.0</td>\n",
       "      <td>4376</td>\n",
       "    </tr>\n",
       "    <tr>\n",
       "      <th>dodge d200</th>\n",
       "      <td>11.0</td>\n",
       "      <td>4382</td>\n",
       "    </tr>\n",
       "    <tr>\n",
       "      <th>ih 1200d</th>\n",
       "      <td>9.0</td>\n",
       "      <td>4732</td>\n",
       "    </tr>\n",
       "    <tr>\n",
       "      <th>datsun pl510</th>\n",
       "      <td>27.0</td>\n",
       "      <td>2130</td>\n",
       "    </tr>\n",
       "    <tr>\n",
       "      <th>...</th>\n",
       "      <td>...</td>\n",
       "      <td>...</td>\n",
       "    </tr>\n",
       "    <tr>\n",
       "      <th>chevrolet cavalier wagon</th>\n",
       "      <td>27.0</td>\n",
       "      <td>2640</td>\n",
       "    </tr>\n",
       "    <tr>\n",
       "      <th>chevrolet cavalier 2-door</th>\n",
       "      <td>34.0</td>\n",
       "      <td>2395</td>\n",
       "    </tr>\n",
       "    <tr>\n",
       "      <th>pontiac j2000 se hatchback</th>\n",
       "      <td>31.0</td>\n",
       "      <td>2575</td>\n",
       "    </tr>\n",
       "    <tr>\n",
       "      <th>dodge aries se</th>\n",
       "      <td>29.0</td>\n",
       "      <td>2525</td>\n",
       "    </tr>\n",
       "    <tr>\n",
       "      <th>pontiac phoenix</th>\n",
       "      <td>27.0</td>\n",
       "      <td>2735</td>\n",
       "    </tr>\n",
       "    <tr>\n",
       "      <th>ford fairmont futura</th>\n",
       "      <td>24.0</td>\n",
       "      <td>2865</td>\n",
       "    </tr>\n",
       "    <tr>\n",
       "      <th>amc concord dl</th>\n",
       "      <td>23.0</td>\n",
       "      <td>3035</td>\n",
       "    </tr>\n",
       "    <tr>\n",
       "      <th>vw rabbit l</th>\n",
       "      <td>36.0</td>\n",
       "      <td>1980</td>\n",
       "    </tr>\n",
       "    <tr>\n",
       "      <th>mazda glc custom l</th>\n",
       "      <td>37.0</td>\n",
       "      <td>2025</td>\n",
       "    </tr>\n",
       "    <tr>\n",
       "      <th>mazda glc custom</th>\n",
       "      <td>31.0</td>\n",
       "      <td>1970</td>\n",
       "    </tr>\n",
       "    <tr>\n",
       "      <th>plymouth horizon miser</th>\n",
       "      <td>38.0</td>\n",
       "      <td>2125</td>\n",
       "    </tr>\n",
       "    <tr>\n",
       "      <th>mercury lynx l</th>\n",
       "      <td>36.0</td>\n",
       "      <td>2125</td>\n",
       "    </tr>\n",
       "    <tr>\n",
       "      <th>nissan stanza xe</th>\n",
       "      <td>36.0</td>\n",
       "      <td>2160</td>\n",
       "    </tr>\n",
       "    <tr>\n",
       "      <th>honda accord</th>\n",
       "      <td>36.0</td>\n",
       "      <td>2205</td>\n",
       "    </tr>\n",
       "    <tr>\n",
       "      <th>toyota corolla</th>\n",
       "      <td>34.0</td>\n",
       "      <td>2245</td>\n",
       "    </tr>\n",
       "    <tr>\n",
       "      <th>honda civic</th>\n",
       "      <td>38.0</td>\n",
       "      <td>1965</td>\n",
       "    </tr>\n",
       "    <tr>\n",
       "      <th>honda civic (auto)</th>\n",
       "      <td>32.0</td>\n",
       "      <td>1965</td>\n",
       "    </tr>\n",
       "    <tr>\n",
       "      <th>datsun 310 gx</th>\n",
       "      <td>38.0</td>\n",
       "      <td>1995</td>\n",
       "    </tr>\n",
       "    <tr>\n",
       "      <th>buick century limited</th>\n",
       "      <td>25.0</td>\n",
       "      <td>2945</td>\n",
       "    </tr>\n",
       "    <tr>\n",
       "      <th>oldsmobile cutlass ciera (diesel)</th>\n",
       "      <td>38.0</td>\n",
       "      <td>3015</td>\n",
       "    </tr>\n",
       "    <tr>\n",
       "      <th>chrysler lebaron medallion</th>\n",
       "      <td>26.0</td>\n",
       "      <td>2585</td>\n",
       "    </tr>\n",
       "    <tr>\n",
       "      <th>ford granada l</th>\n",
       "      <td>22.0</td>\n",
       "      <td>2835</td>\n",
       "    </tr>\n",
       "    <tr>\n",
       "      <th>toyota celica gt</th>\n",
       "      <td>32.0</td>\n",
       "      <td>2665</td>\n",
       "    </tr>\n",
       "    <tr>\n",
       "      <th>dodge charger 2.2</th>\n",
       "      <td>36.0</td>\n",
       "      <td>2370</td>\n",
       "    </tr>\n",
       "    <tr>\n",
       "      <th>chevrolet camaro</th>\n",
       "      <td>27.0</td>\n",
       "      <td>2950</td>\n",
       "    </tr>\n",
       "    <tr>\n",
       "      <th>ford mustang gl</th>\n",
       "      <td>27.0</td>\n",
       "      <td>2790</td>\n",
       "    </tr>\n",
       "    <tr>\n",
       "      <th>vw pickup</th>\n",
       "      <td>44.0</td>\n",
       "      <td>2130</td>\n",
       "    </tr>\n",
       "    <tr>\n",
       "      <th>dodge rampage</th>\n",
       "      <td>32.0</td>\n",
       "      <td>2295</td>\n",
       "    </tr>\n",
       "    <tr>\n",
       "      <th>ford ranger</th>\n",
       "      <td>28.0</td>\n",
       "      <td>2625</td>\n",
       "    </tr>\n",
       "    <tr>\n",
       "      <th>chevrolet s-10</th>\n",
       "      <td>31.0</td>\n",
       "      <td>2720</td>\n",
       "    </tr>\n",
       "  </tbody>\n",
       "</table>\n",
       "<p>398 rows × 2 columns</p>\n",
       "</div>"
      ],
      "text/plain": [
       "                                    mpg  weight\n",
       "name                                           \n",
       "chevrolet chevelle malibu          18.0    3504\n",
       "buick skylark 320                  15.0    3693\n",
       "plymouth satellite                 18.0    3436\n",
       "amc rebel sst                      16.0    3433\n",
       "ford torino                        17.0    3449\n",
       "ford galaxie 500                   15.0    4341\n",
       "chevrolet impala                   14.0    4354\n",
       "plymouth fury iii                  14.0    4312\n",
       "pontiac catalina                   14.0    4425\n",
       "amc ambassador dpl                 15.0    3850\n",
       "dodge challenger se                15.0    3563\n",
       "plymouth 'cuda 340                 14.0    3609\n",
       "chevrolet monte carlo              15.0    3761\n",
       "buick estate wagon (sw)            14.0    3086\n",
       "toyota corona mark ii              24.0    2372\n",
       "plymouth duster                    22.0    2833\n",
       "amc hornet                         18.0    2774\n",
       "ford maverick                      21.0    2587\n",
       "datsun pl510                       27.0    2130\n",
       "vw 1131 deluxe sedan               26.0    1835\n",
       "peugeot 504                        25.0    2672\n",
       "audi 100 ls                        24.0    2430\n",
       "saab 99e                           25.0    2375\n",
       "bmw 2002                           26.0    2234\n",
       "amc gremlin                        21.0    2648\n",
       "ford f250                          10.0    4615\n",
       "chevrolet c20                      10.0    4376\n",
       "dodge d200                         11.0    4382\n",
       "ih 1200d                            9.0    4732\n",
       "datsun pl510                       27.0    2130\n",
       "...                                 ...     ...\n",
       "chevrolet cavalier wagon           27.0    2640\n",
       "chevrolet cavalier 2-door          34.0    2395\n",
       "pontiac j2000 se hatchback         31.0    2575\n",
       "dodge aries se                     29.0    2525\n",
       "pontiac phoenix                    27.0    2735\n",
       "ford fairmont futura               24.0    2865\n",
       "amc concord dl                     23.0    3035\n",
       "vw rabbit l                        36.0    1980\n",
       "mazda glc custom l                 37.0    2025\n",
       "mazda glc custom                   31.0    1970\n",
       "plymouth horizon miser             38.0    2125\n",
       "mercury lynx l                     36.0    2125\n",
       "nissan stanza xe                   36.0    2160\n",
       "honda accord                       36.0    2205\n",
       "toyota corolla                     34.0    2245\n",
       "honda civic                        38.0    1965\n",
       "honda civic (auto)                 32.0    1965\n",
       "datsun 310 gx                      38.0    1995\n",
       "buick century limited              25.0    2945\n",
       "oldsmobile cutlass ciera (diesel)  38.0    3015\n",
       "chrysler lebaron medallion         26.0    2585\n",
       "ford granada l                     22.0    2835\n",
       "toyota celica gt                   32.0    2665\n",
       "dodge charger 2.2                  36.0    2370\n",
       "chevrolet camaro                   27.0    2950\n",
       "ford mustang gl                    27.0    2790\n",
       "vw pickup                          44.0    2130\n",
       "dodge rampage                      32.0    2295\n",
       "ford ranger                        28.0    2625\n",
       "chevrolet s-10                     31.0    2720\n",
       "\n",
       "[398 rows x 2 columns]"
      ]
     },
     "execution_count": 21,
     "metadata": {},
     "output_type": "execute_result"
    }
   ],
   "source": [
    "cars.loc[:, [\"mpg\", \"weight\"]]"
   ]
  },
  {
   "cell_type": "markdown",
   "metadata": {},
   "source": [
    "# Well Done!"
   ]
  },
  {
   "cell_type": "markdown",
   "metadata": {},
   "source": [
    "---------------------------------------------------------------------------------------------------------------------"
   ]
  },
  {
   "cell_type": "markdown",
   "metadata": {},
   "source": [
    "# Hints (Spoiler!)"
   ]
  },
  {
   "cell_type": "markdown",
   "metadata": {},
   "source": [
    "1. pandas as pd"
   ]
  },
  {
   "cell_type": "markdown",
   "metadata": {},
   "source": [
    "2. Pass the filename in quotation marks to pd.read_csv()"
   ]
  },
  {
   "cell_type": "markdown",
   "metadata": {},
   "source": [
    "3. head() method with n = 10"
   ]
  },
  {
   "cell_type": "markdown",
   "metadata": {},
   "source": [
    "4. tail() method"
   ]
  },
  {
   "cell_type": "markdown",
   "metadata": {},
   "source": [
    "5. info() method"
   ]
  },
  {
   "cell_type": "markdown",
   "metadata": {},
   "source": [
    "6. describe() method"
   ]
  },
  {
   "cell_type": "markdown",
   "metadata": {},
   "source": [
    "7. pandas as pd, pd.read_csv(\"filename\"), head()"
   ]
  },
  {
   "cell_type": "markdown",
   "metadata": {},
   "source": [
    "8. cars.---"
   ]
  },
  {
   "cell_type": "markdown",
   "metadata": {},
   "source": [
    "9. cars[\"---\"]"
   ]
  },
  {
   "cell_type": "markdown",
   "metadata": {},
   "source": [
    "10. cars.iloc[---]"
   ]
  },
  {
   "cell_type": "markdown",
   "metadata": {},
   "source": [
    "11. cars.iloc[row index position, column index position]; \"name\" column is at index position ... 8"
   ]
  },
  {
   "cell_type": "markdown",
   "metadata": {},
   "source": [
    "12. The last 10 rows = from index position -10 till the end (:); Count the column index positions of the Columns\n"
   ]
  },
  {
   "cell_type": "markdown",
   "metadata": {},
   "source": [
    "13. parameter index_col"
   ]
  },
  {
   "cell_type": "markdown",
   "metadata": {},
   "source": [
    "14. cars.---"
   ]
  },
  {
   "cell_type": "markdown",
   "metadata": {},
   "source": [
    "15. cars.loc[\"row label\"]"
   ]
  },
  {
   "cell_type": "markdown",
   "metadata": {},
   "source": [
    "16. cars.loc[---, [---, ---]]"
   ]
  },
  {
   "cell_type": "markdown",
   "metadata": {},
   "source": [
    "17.  cars.loc[ : , [---, ---]]"
   ]
  }
 ],
 "metadata": {
  "kernelspec": {
   "display_name": "Python 3",
   "language": "python",
   "name": "python3"
  },
  "language_info": {
   "codemirror_mode": {
    "name": "ipython",
    "version": 3
   },
   "file_extension": ".py",
   "mimetype": "text/x-python",
   "name": "python",
   "nbconvert_exporter": "python",
   "pygments_lexer": "ipython3",
   "version": "3.7.0"
  }
 },
 "nbformat": 4,
 "nbformat_minor": 2
}
